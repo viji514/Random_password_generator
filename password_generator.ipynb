{
  "nbformat": 4,
  "nbformat_minor": 0,
  "metadata": {
    "colab": {
      "provenance": [],
      "authorship_tag": "ABX9TyP2uwi346PdLlUB3vLepV4f",
      "include_colab_link": true
    },
    "kernelspec": {
      "name": "python3",
      "display_name": "Python 3"
    },
    "language_info": {
      "name": "python"
    },
    "widgets": {
      "application/vnd.jupyter.widget-state+json": {
        "e9fca6b5aca94f1cb2327d78d4ed826a": {
          "model_module": "@jupyter-widgets/controls",
          "model_name": "VBoxModel",
          "model_module_version": "1.5.0",
          "state": {
            "_dom_classes": [],
            "_model_module": "@jupyter-widgets/controls",
            "_model_module_version": "1.5.0",
            "_model_name": "VBoxModel",
            "_view_count": null,
            "_view_module": "@jupyter-widgets/controls",
            "_view_module_version": "1.5.0",
            "_view_name": "VBoxView",
            "box_style": "",
            "children": [
              "IPY_MODEL_d366d9e951284a51a0ab5ea03aa19934",
              "IPY_MODEL_5eeb0958aa8e4d3f999fe8d25fe297fb",
              "IPY_MODEL_d8aab077596243cba97ee0958644c089",
              "IPY_MODEL_3d7212e43dc44032a276723148d99f1f",
              "IPY_MODEL_92b2db47a69941bca029e594192be56d"
            ],
            "layout": "IPY_MODEL_b53e6bd9a92445aa85dee061b69a7891"
          }
        },
        "d366d9e951284a51a0ab5ea03aa19934": {
          "model_module": "@jupyter-widgets/controls",
          "model_name": "IntTextModel",
          "model_module_version": "1.5.0",
          "state": {
            "_dom_classes": [],
            "_model_module": "@jupyter-widgets/controls",
            "_model_module_version": "1.5.0",
            "_model_name": "IntTextModel",
            "_view_count": null,
            "_view_module": "@jupyter-widgets/controls",
            "_view_module_version": "1.5.0",
            "_view_name": "IntTextView",
            "continuous_update": false,
            "description": "Password length:",
            "description_tooltip": null,
            "disabled": false,
            "layout": "IPY_MODEL_b6c65406dd274f63a90e0c827dd1fac9",
            "step": 1,
            "style": "IPY_MODEL_44fe2af6caa4433aa739cefcd2bffb28",
            "value": 14
          }
        },
        "5eeb0958aa8e4d3f999fe8d25fe297fb": {
          "model_module": "@jupyter-widgets/controls",
          "model_name": "CheckboxModel",
          "model_module_version": "1.5.0",
          "state": {
            "_dom_classes": [],
            "_model_module": "@jupyter-widgets/controls",
            "_model_module_version": "1.5.0",
            "_model_name": "CheckboxModel",
            "_view_count": null,
            "_view_module": "@jupyter-widgets/controls",
            "_view_module_version": "1.5.0",
            "_view_name": "CheckboxView",
            "description": "Include Numbers",
            "description_tooltip": null,
            "disabled": false,
            "indent": true,
            "layout": "IPY_MODEL_a84c3c33fce5414c9a1f181c38573cc6",
            "style": "IPY_MODEL_a701c2e125bf405a9c24fbcc752f8e41",
            "value": true
          }
        },
        "d8aab077596243cba97ee0958644c089": {
          "model_module": "@jupyter-widgets/controls",
          "model_name": "CheckboxModel",
          "model_module_version": "1.5.0",
          "state": {
            "_dom_classes": [],
            "_model_module": "@jupyter-widgets/controls",
            "_model_module_version": "1.5.0",
            "_model_name": "CheckboxModel",
            "_view_count": null,
            "_view_module": "@jupyter-widgets/controls",
            "_view_module_version": "1.5.0",
            "_view_name": "CheckboxView",
            "description": "Include Symbols",
            "description_tooltip": null,
            "disabled": false,
            "indent": true,
            "layout": "IPY_MODEL_fb51199914084ed9b3b153e48afe5bba",
            "style": "IPY_MODEL_2e45faeb6a45446592cf155cbfcf5229",
            "value": true
          }
        },
        "3d7212e43dc44032a276723148d99f1f": {
          "model_module": "@jupyter-widgets/controls",
          "model_name": "ButtonModel",
          "model_module_version": "1.5.0",
          "state": {
            "_dom_classes": [],
            "_model_module": "@jupyter-widgets/controls",
            "_model_module_version": "1.5.0",
            "_model_name": "ButtonModel",
            "_view_count": null,
            "_view_module": "@jupyter-widgets/controls",
            "_view_module_version": "1.5.0",
            "_view_name": "ButtonView",
            "button_style": "",
            "description": "Generate Password",
            "disabled": false,
            "icon": "",
            "layout": "IPY_MODEL_afbff21d375b4b889abfaae98bcd2bf7",
            "style": "IPY_MODEL_50008b85006a4204a4f107d56e6da586",
            "tooltip": ""
          }
        },
        "92b2db47a69941bca029e594192be56d": {
          "model_module": "@jupyter-widgets/controls",
          "model_name": "LabelModel",
          "model_module_version": "1.5.0",
          "state": {
            "_dom_classes": [],
            "_model_module": "@jupyter-widgets/controls",
            "_model_module_version": "1.5.0",
            "_model_name": "LabelModel",
            "_view_count": null,
            "_view_module": "@jupyter-widgets/controls",
            "_view_module_version": "1.5.0",
            "_view_name": "LabelView",
            "description": "",
            "description_tooltip": null,
            "layout": "IPY_MODEL_c8d455289cc84eec8671695b4c9bb78e",
            "placeholder": "​",
            "style": "IPY_MODEL_92601983b3334fbaa3310266076898ad",
            "value": "Generated Password: 5c^(+}heotSW#Z"
          }
        },
        "b53e6bd9a92445aa85dee061b69a7891": {
          "model_module": "@jupyter-widgets/base",
          "model_name": "LayoutModel",
          "model_module_version": "1.2.0",
          "state": {
            "_model_module": "@jupyter-widgets/base",
            "_model_module_version": "1.2.0",
            "_model_name": "LayoutModel",
            "_view_count": null,
            "_view_module": "@jupyter-widgets/base",
            "_view_module_version": "1.2.0",
            "_view_name": "LayoutView",
            "align_content": null,
            "align_items": null,
            "align_self": null,
            "border": null,
            "bottom": null,
            "display": null,
            "flex": null,
            "flex_flow": null,
            "grid_area": null,
            "grid_auto_columns": null,
            "grid_auto_flow": null,
            "grid_auto_rows": null,
            "grid_column": null,
            "grid_gap": null,
            "grid_row": null,
            "grid_template_areas": null,
            "grid_template_columns": null,
            "grid_template_rows": null,
            "height": null,
            "justify_content": null,
            "justify_items": null,
            "left": null,
            "margin": null,
            "max_height": null,
            "max_width": null,
            "min_height": null,
            "min_width": null,
            "object_fit": null,
            "object_position": null,
            "order": null,
            "overflow": null,
            "overflow_x": null,
            "overflow_y": null,
            "padding": null,
            "right": null,
            "top": null,
            "visibility": null,
            "width": null
          }
        },
        "b6c65406dd274f63a90e0c827dd1fac9": {
          "model_module": "@jupyter-widgets/base",
          "model_name": "LayoutModel",
          "model_module_version": "1.2.0",
          "state": {
            "_model_module": "@jupyter-widgets/base",
            "_model_module_version": "1.2.0",
            "_model_name": "LayoutModel",
            "_view_count": null,
            "_view_module": "@jupyter-widgets/base",
            "_view_module_version": "1.2.0",
            "_view_name": "LayoutView",
            "align_content": null,
            "align_items": null,
            "align_self": null,
            "border": null,
            "bottom": null,
            "display": null,
            "flex": null,
            "flex_flow": null,
            "grid_area": null,
            "grid_auto_columns": null,
            "grid_auto_flow": null,
            "grid_auto_rows": null,
            "grid_column": null,
            "grid_gap": null,
            "grid_row": null,
            "grid_template_areas": null,
            "grid_template_columns": null,
            "grid_template_rows": null,
            "height": null,
            "justify_content": null,
            "justify_items": null,
            "left": null,
            "margin": null,
            "max_height": null,
            "max_width": null,
            "min_height": null,
            "min_width": null,
            "object_fit": null,
            "object_position": null,
            "order": null,
            "overflow": null,
            "overflow_x": null,
            "overflow_y": null,
            "padding": null,
            "right": null,
            "top": null,
            "visibility": null,
            "width": null
          }
        },
        "44fe2af6caa4433aa739cefcd2bffb28": {
          "model_module": "@jupyter-widgets/controls",
          "model_name": "DescriptionStyleModel",
          "model_module_version": "1.5.0",
          "state": {
            "_model_module": "@jupyter-widgets/controls",
            "_model_module_version": "1.5.0",
            "_model_name": "DescriptionStyleModel",
            "_view_count": null,
            "_view_module": "@jupyter-widgets/base",
            "_view_module_version": "1.2.0",
            "_view_name": "StyleView",
            "description_width": ""
          }
        },
        "a84c3c33fce5414c9a1f181c38573cc6": {
          "model_module": "@jupyter-widgets/base",
          "model_name": "LayoutModel",
          "model_module_version": "1.2.0",
          "state": {
            "_model_module": "@jupyter-widgets/base",
            "_model_module_version": "1.2.0",
            "_model_name": "LayoutModel",
            "_view_count": null,
            "_view_module": "@jupyter-widgets/base",
            "_view_module_version": "1.2.0",
            "_view_name": "LayoutView",
            "align_content": null,
            "align_items": null,
            "align_self": null,
            "border": null,
            "bottom": null,
            "display": null,
            "flex": null,
            "flex_flow": null,
            "grid_area": null,
            "grid_auto_columns": null,
            "grid_auto_flow": null,
            "grid_auto_rows": null,
            "grid_column": null,
            "grid_gap": null,
            "grid_row": null,
            "grid_template_areas": null,
            "grid_template_columns": null,
            "grid_template_rows": null,
            "height": null,
            "justify_content": null,
            "justify_items": null,
            "left": null,
            "margin": null,
            "max_height": null,
            "max_width": null,
            "min_height": null,
            "min_width": null,
            "object_fit": null,
            "object_position": null,
            "order": null,
            "overflow": null,
            "overflow_x": null,
            "overflow_y": null,
            "padding": null,
            "right": null,
            "top": null,
            "visibility": null,
            "width": null
          }
        },
        "a701c2e125bf405a9c24fbcc752f8e41": {
          "model_module": "@jupyter-widgets/controls",
          "model_name": "DescriptionStyleModel",
          "model_module_version": "1.5.0",
          "state": {
            "_model_module": "@jupyter-widgets/controls",
            "_model_module_version": "1.5.0",
            "_model_name": "DescriptionStyleModel",
            "_view_count": null,
            "_view_module": "@jupyter-widgets/base",
            "_view_module_version": "1.2.0",
            "_view_name": "StyleView",
            "description_width": ""
          }
        },
        "fb51199914084ed9b3b153e48afe5bba": {
          "model_module": "@jupyter-widgets/base",
          "model_name": "LayoutModel",
          "model_module_version": "1.2.0",
          "state": {
            "_model_module": "@jupyter-widgets/base",
            "_model_module_version": "1.2.0",
            "_model_name": "LayoutModel",
            "_view_count": null,
            "_view_module": "@jupyter-widgets/base",
            "_view_module_version": "1.2.0",
            "_view_name": "LayoutView",
            "align_content": null,
            "align_items": null,
            "align_self": null,
            "border": null,
            "bottom": null,
            "display": null,
            "flex": null,
            "flex_flow": null,
            "grid_area": null,
            "grid_auto_columns": null,
            "grid_auto_flow": null,
            "grid_auto_rows": null,
            "grid_column": null,
            "grid_gap": null,
            "grid_row": null,
            "grid_template_areas": null,
            "grid_template_columns": null,
            "grid_template_rows": null,
            "height": null,
            "justify_content": null,
            "justify_items": null,
            "left": null,
            "margin": null,
            "max_height": null,
            "max_width": null,
            "min_height": null,
            "min_width": null,
            "object_fit": null,
            "object_position": null,
            "order": null,
            "overflow": null,
            "overflow_x": null,
            "overflow_y": null,
            "padding": null,
            "right": null,
            "top": null,
            "visibility": null,
            "width": null
          }
        },
        "2e45faeb6a45446592cf155cbfcf5229": {
          "model_module": "@jupyter-widgets/controls",
          "model_name": "DescriptionStyleModel",
          "model_module_version": "1.5.0",
          "state": {
            "_model_module": "@jupyter-widgets/controls",
            "_model_module_version": "1.5.0",
            "_model_name": "DescriptionStyleModel",
            "_view_count": null,
            "_view_module": "@jupyter-widgets/base",
            "_view_module_version": "1.2.0",
            "_view_name": "StyleView",
            "description_width": ""
          }
        },
        "afbff21d375b4b889abfaae98bcd2bf7": {
          "model_module": "@jupyter-widgets/base",
          "model_name": "LayoutModel",
          "model_module_version": "1.2.0",
          "state": {
            "_model_module": "@jupyter-widgets/base",
            "_model_module_version": "1.2.0",
            "_model_name": "LayoutModel",
            "_view_count": null,
            "_view_module": "@jupyter-widgets/base",
            "_view_module_version": "1.2.0",
            "_view_name": "LayoutView",
            "align_content": null,
            "align_items": null,
            "align_self": null,
            "border": null,
            "bottom": null,
            "display": null,
            "flex": null,
            "flex_flow": null,
            "grid_area": null,
            "grid_auto_columns": null,
            "grid_auto_flow": null,
            "grid_auto_rows": null,
            "grid_column": null,
            "grid_gap": null,
            "grid_row": null,
            "grid_template_areas": null,
            "grid_template_columns": null,
            "grid_template_rows": null,
            "height": null,
            "justify_content": null,
            "justify_items": null,
            "left": null,
            "margin": null,
            "max_height": null,
            "max_width": null,
            "min_height": null,
            "min_width": null,
            "object_fit": null,
            "object_position": null,
            "order": null,
            "overflow": null,
            "overflow_x": null,
            "overflow_y": null,
            "padding": null,
            "right": null,
            "top": null,
            "visibility": null,
            "width": null
          }
        },
        "50008b85006a4204a4f107d56e6da586": {
          "model_module": "@jupyter-widgets/controls",
          "model_name": "ButtonStyleModel",
          "model_module_version": "1.5.0",
          "state": {
            "_model_module": "@jupyter-widgets/controls",
            "_model_module_version": "1.5.0",
            "_model_name": "ButtonStyleModel",
            "_view_count": null,
            "_view_module": "@jupyter-widgets/base",
            "_view_module_version": "1.2.0",
            "_view_name": "StyleView",
            "button_color": null,
            "font_weight": ""
          }
        },
        "c8d455289cc84eec8671695b4c9bb78e": {
          "model_module": "@jupyter-widgets/base",
          "model_name": "LayoutModel",
          "model_module_version": "1.2.0",
          "state": {
            "_model_module": "@jupyter-widgets/base",
            "_model_module_version": "1.2.0",
            "_model_name": "LayoutModel",
            "_view_count": null,
            "_view_module": "@jupyter-widgets/base",
            "_view_module_version": "1.2.0",
            "_view_name": "LayoutView",
            "align_content": null,
            "align_items": null,
            "align_self": null,
            "border": null,
            "bottom": null,
            "display": null,
            "flex": null,
            "flex_flow": null,
            "grid_area": null,
            "grid_auto_columns": null,
            "grid_auto_flow": null,
            "grid_auto_rows": null,
            "grid_column": null,
            "grid_gap": null,
            "grid_row": null,
            "grid_template_areas": null,
            "grid_template_columns": null,
            "grid_template_rows": null,
            "height": null,
            "justify_content": null,
            "justify_items": null,
            "left": null,
            "margin": null,
            "max_height": null,
            "max_width": null,
            "min_height": null,
            "min_width": null,
            "object_fit": null,
            "object_position": null,
            "order": null,
            "overflow": null,
            "overflow_x": null,
            "overflow_y": null,
            "padding": null,
            "right": null,
            "top": null,
            "visibility": null,
            "width": null
          }
        },
        "92601983b3334fbaa3310266076898ad": {
          "model_module": "@jupyter-widgets/controls",
          "model_name": "DescriptionStyleModel",
          "model_module_version": "1.5.0",
          "state": {
            "_model_module": "@jupyter-widgets/controls",
            "_model_module_version": "1.5.0",
            "_model_name": "DescriptionStyleModel",
            "_view_count": null,
            "_view_module": "@jupyter-widgets/base",
            "_view_module_version": "1.2.0",
            "_view_name": "StyleView",
            "description_width": ""
          }
        }
      }
    }
  },
  "cells": [
    {
      "cell_type": "markdown",
      "metadata": {
        "id": "view-in-github",
        "colab_type": "text"
      },
      "source": [
        "<a href=\"https://colab.research.google.com/github/viji514/codeclause_1/blob/main/password_generator.ipynb\" target=\"_parent\"><img src=\"https://colab.research.google.com/assets/colab-badge.svg\" alt=\"Open In Colab\"/></a>"
      ]
    },
    {
      "cell_type": "code",
      "source": [
        "import string\n",
        "import secrets"
      ],
      "metadata": {
        "id": "Qox6OQw97ULB"
      },
      "execution_count": 1,
      "outputs": []
    },
    {
      "cell_type": "code",
      "execution_count": 2,
      "metadata": {
        "id": "AvtzAdQv69MW"
      },
      "outputs": [],
      "source": [
        "def generate_password(length=12, include_numbers=True, include_symbols=True):\n",
        "    alphabet = string.ascii_letters\n",
        "    if include_numbers:\n",
        "        alphabet += string.digits\n",
        "    if include_symbols:\n",
        "        alphabet += string.punctuation\n",
        "\n",
        "    password = ''.join(secrets.choice(alphabet) for i in range(length))\n",
        "    return password"
      ]
    },
    {
      "cell_type": "code",
      "source": [
        "def get_password_requirements():\n",
        "    length = int(input(\"Enter password length: \"))\n",
        "    include_numbers = input(\"Include numbers? (yes/no): \").lower() == \"yes\"\n",
        "    include_symbols = input(\"Include symbols? (yes/no): \").lower() == \"yes\"\n",
        "    return length, include_numbers, include_symbols"
      ],
      "metadata": {
        "id": "6whXOfBu7Yv0"
      },
      "execution_count": 3,
      "outputs": []
    },
    {
      "cell_type": "code",
      "source": [
        "def main():\n",
        "    print(\"Welcome to the Secure Password Generator!\")\n",
        "    length, include_numbers, include_symbols = get_password_requirements()\n",
        "    password = generate_password(length, include_numbers, include_symbols)\n",
        "    print(\"Generated Password:\", password)"
      ],
      "metadata": {
        "id": "zo2di-Fw7YR_"
      },
      "execution_count": 4,
      "outputs": []
    },
    {
      "cell_type": "code",
      "source": [
        "if __name__ == \"__main__\":\n",
        "    main()"
      ],
      "metadata": {
        "colab": {
          "base_uri": "https://localhost:8080/"
        },
        "id": "3TDBdNQb7gHs",
        "outputId": "cb5ec65b-38a2-4e64-c92d-06c779e1182a"
      },
      "execution_count": 5,
      "outputs": [
        {
          "output_type": "stream",
          "name": "stdout",
          "text": [
            "Welcome to the Secure Password Generator!\n",
            "Enter password length: 14\n",
            "Include numbers? (yes/no): yes\n",
            "Include symbols? (yes/no): yes\n",
            "Generated Password: u/Kp\\Y1T;(hDd`\n"
          ]
        }
      ]
    },
    {
      "cell_type": "markdown",
      "source": [
        "**___________________________________________________________________________**"
      ],
      "metadata": {
        "id": "jqCqBzaX-sp3"
      }
    },
    {
      "cell_type": "code",
      "source": [
        "import string\n",
        "import secrets\n",
        "import ipywidgets as widgets\n",
        "from IPython.display import display"
      ],
      "metadata": {
        "id": "WYpvsH9f8Bck"
      },
      "execution_count": 6,
      "outputs": []
    },
    {
      "cell_type": "code",
      "source": [
        "def generate_password(length=12, include_numbers=True, include_symbols=True):\n",
        "    alphabet = string.ascii_letters\n",
        "    if include_numbers:\n",
        "        alphabet += string.digits\n",
        "    if include_symbols:\n",
        "        alphabet += string.punctuation\n",
        "\n",
        "    password = ''.join(secrets.choice(alphabet) for i in range(length))\n",
        "    return password"
      ],
      "metadata": {
        "id": "F6spZpcY8BbS"
      },
      "execution_count": 7,
      "outputs": []
    },
    {
      "cell_type": "code",
      "source": [
        "def generate_clicked(button):\n",
        "    length = int(length_input.value)\n",
        "    include_numbers = numbers_checkbox.value\n",
        "    include_symbols = symbols_checkbox.value\n",
        "    password = generate_password(length, include_numbers, include_symbols)\n",
        "    result_label.value = \"Generated Password: \" + password"
      ],
      "metadata": {
        "id": "PX_VedR_8BZp"
      },
      "execution_count": 8,
      "outputs": []
    },
    {
      "cell_type": "code",
      "source": [
        "# Create widgets\n",
        "length_input = widgets.IntText(description=\"Password length:\", value=12)\n",
        "numbers_checkbox = widgets.Checkbox(description=\"Include Numbers\", value=True)\n",
        "symbols_checkbox = widgets.Checkbox(description=\"Include Symbols\", value=True)\n",
        "generate_button = widgets.Button(description=\"Generate Password\")\n",
        "result_label = widgets.Label()"
      ],
      "metadata": {
        "id": "feWK0KhX8BXW"
      },
      "execution_count": 9,
      "outputs": []
    },
    {
      "cell_type": "code",
      "source": [
        "# Register event handler\n",
        "generate_button.on_click(generate_clicked)"
      ],
      "metadata": {
        "id": "nvNozr5y8BVG"
      },
      "execution_count": 10,
      "outputs": []
    },
    {
      "cell_type": "code",
      "source": [
        "# Arrange widgets\n",
        "ui = widgets.VBox([length_input, numbers_checkbox, symbols_checkbox, generate_button, result_label])"
      ],
      "metadata": {
        "id": "w9uLkLy59Duq"
      },
      "execution_count": 11,
      "outputs": []
    },
    {
      "cell_type": "code",
      "source": [
        "# Display UI\n",
        "display(ui)"
      ],
      "metadata": {
        "colab": {
          "base_uri": "https://localhost:8080/",
          "height": 177,
          "referenced_widgets": [
            "e9fca6b5aca94f1cb2327d78d4ed826a",
            "d366d9e951284a51a0ab5ea03aa19934",
            "5eeb0958aa8e4d3f999fe8d25fe297fb",
            "d8aab077596243cba97ee0958644c089",
            "3d7212e43dc44032a276723148d99f1f",
            "92b2db47a69941bca029e594192be56d",
            "b53e6bd9a92445aa85dee061b69a7891",
            "b6c65406dd274f63a90e0c827dd1fac9",
            "44fe2af6caa4433aa739cefcd2bffb28",
            "a84c3c33fce5414c9a1f181c38573cc6",
            "a701c2e125bf405a9c24fbcc752f8e41",
            "fb51199914084ed9b3b153e48afe5bba",
            "2e45faeb6a45446592cf155cbfcf5229",
            "afbff21d375b4b889abfaae98bcd2bf7",
            "50008b85006a4204a4f107d56e6da586",
            "c8d455289cc84eec8671695b4c9bb78e",
            "92601983b3334fbaa3310266076898ad"
          ]
        },
        "id": "3X0RPeUA9EaO",
        "outputId": "71f4652c-2c6c-4f8f-ade9-711953301805"
      },
      "execution_count": 12,
      "outputs": [
        {
          "output_type": "display_data",
          "data": {
            "text/plain": [
              "VBox(children=(IntText(value=12, description='Password length:'), Checkbox(value=True, description='Include Nu…"
            ],
            "application/vnd.jupyter.widget-view+json": {
              "version_major": 2,
              "version_minor": 0,
              "model_id": "e9fca6b5aca94f1cb2327d78d4ed826a"
            }
          },
          "metadata": {}
        }
      ]
    }
  ]
}